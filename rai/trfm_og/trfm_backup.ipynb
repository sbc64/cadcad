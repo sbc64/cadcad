{
 "cells": [
  {
   "cell_type": "code",
   "execution_count": 1,
   "metadata": {},
   "outputs": [
    {
     "name": "stdout",
     "output_type": "stream",
     "text": [
      "[{'T': range(0, 720), 'N': 1, 'M': [{}]}]\n"
     ]
    }
   ],
   "source": [
    "# import libraries\n",
    "import pandas as pd\n",
    "import numpy\n",
    "import matplotlib\n",
    "from cadCAD.engine import ExecutionMode, ExecutionContext, Executor\n",
    "import config\n",
    "from cadCAD import configs\n",
    "import matplotlib.pyplot as plt\n",
    "\n",
    "%matplotlib inline\n",
    "\n",
    "exec_mode = ExecutionMode()"
   ]
  },
  {
   "cell_type": "code",
   "execution_count": 2,
   "metadata": {
    "scrolled": true
   },
   "outputs": [
    {
     "name": "stdout",
     "output_type": "stream",
     "text": [
      "\n",
      "                            __________   ____ \n",
      "          ________ __ _____/ ____/   |  / __ \\\n",
      "         / ___/ __` / __  / /   / /| | / / / /\n",
      "        / /__/ /_/ / /_/ / /___/ ___ |/ /_/ / \n",
      "        \\___/\\__,_/\\__,_/\\____/_/  |_/_____/  \n",
      "        by BlockScience\n",
      "        \n",
      "Execution Mode: single_proc: [<cadCAD.configuration.Configuration object at 0x11870c978>]\n",
      "Configurations: [<cadCAD.configuration.Configuration object at 0x11870c978>]\n"
     ]
    },
    {
     "data": {
      "text/html": [
       "<div>\n",
       "<style scoped>\n",
       "    .dataframe tbody tr th:only-of-type {\n",
       "        vertical-align: middle;\n",
       "    }\n",
       "\n",
       "    .dataframe tbody tr th {\n",
       "        vertical-align: top;\n",
       "    }\n",
       "\n",
       "    .dataframe thead th {\n",
       "        text-align: right;\n",
       "    }\n",
       "</style>\n",
       "<table border=\"1\" class=\"dataframe\">\n",
       "  <thead>\n",
       "    <tr style=\"text-align: right;\">\n",
       "      <th></th>\n",
       "      <th></th>\n",
       "      <th></th>\n",
       "      <th>redemption_rate</th>\n",
       "      <th>redemption_price</th>\n",
       "      <th>market_price</th>\n",
       "    </tr>\n",
       "    <tr>\n",
       "      <th>run</th>\n",
       "      <th>timestep</th>\n",
       "      <th>substep</th>\n",
       "      <th></th>\n",
       "      <th></th>\n",
       "      <th></th>\n",
       "    </tr>\n",
       "  </thead>\n",
       "  <tbody>\n",
       "    <tr>\n",
       "      <th rowspan=\"11\" valign=\"top\">1</th>\n",
       "      <th>0</th>\n",
       "      <th>0</th>\n",
       "      <td>3</td>\n",
       "      <td>0.710000</td>\n",
       "      <td>0.710000</td>\n",
       "    </tr>\n",
       "    <tr>\n",
       "      <th>1</th>\n",
       "      <th>1</th>\n",
       "      <td>3</td>\n",
       "      <td>0.710243</td>\n",
       "      <td>0.710000</td>\n",
       "    </tr>\n",
       "    <tr>\n",
       "      <th>2</th>\n",
       "      <th>1</th>\n",
       "      <td>3</td>\n",
       "      <td>0.710486</td>\n",
       "      <td>0.710012</td>\n",
       "    </tr>\n",
       "    <tr>\n",
       "      <th>3</th>\n",
       "      <th>1</th>\n",
       "      <td>3</td>\n",
       "      <td>0.710730</td>\n",
       "      <td>0.710036</td>\n",
       "    </tr>\n",
       "    <tr>\n",
       "      <th>4</th>\n",
       "      <th>1</th>\n",
       "      <td>3</td>\n",
       "      <td>0.710973</td>\n",
       "      <td>0.710071</td>\n",
       "    </tr>\n",
       "    <tr>\n",
       "      <th>...</th>\n",
       "      <th>...</th>\n",
       "      <td>...</td>\n",
       "      <td>...</td>\n",
       "      <td>...</td>\n",
       "    </tr>\n",
       "    <tr>\n",
       "      <th>716</th>\n",
       "      <th>1</th>\n",
       "      <td>3</td>\n",
       "      <td>0.907259</td>\n",
       "      <td>0.901088</td>\n",
       "    </tr>\n",
       "    <tr>\n",
       "      <th>717</th>\n",
       "      <th>1</th>\n",
       "      <td>3</td>\n",
       "      <td>0.907570</td>\n",
       "      <td>0.901396</td>\n",
       "    </tr>\n",
       "    <tr>\n",
       "      <th>718</th>\n",
       "      <th>1</th>\n",
       "      <td>3</td>\n",
       "      <td>0.907881</td>\n",
       "      <td>0.901705</td>\n",
       "    </tr>\n",
       "    <tr>\n",
       "      <th>719</th>\n",
       "      <th>1</th>\n",
       "      <td>3</td>\n",
       "      <td>0.908192</td>\n",
       "      <td>0.902014</td>\n",
       "    </tr>\n",
       "    <tr>\n",
       "      <th>720</th>\n",
       "      <th>1</th>\n",
       "      <td>3</td>\n",
       "      <td>0.908503</td>\n",
       "      <td>0.902323</td>\n",
       "    </tr>\n",
       "  </tbody>\n",
       "</table>\n",
       "<p>721 rows × 3 columns</p>\n",
       "</div>"
      ],
      "text/plain": [
       "                      redemption_rate  redemption_price  market_price\n",
       "run timestep substep                                                 \n",
       "1   0        0                      3          0.710000      0.710000\n",
       "    1        1                      3          0.710243      0.710000\n",
       "    2        1                      3          0.710486      0.710012\n",
       "    3        1                      3          0.710730      0.710036\n",
       "    4        1                      3          0.710973      0.710071\n",
       "...                               ...               ...           ...\n",
       "    716      1                      3          0.907259      0.901088\n",
       "    717      1                      3          0.907570      0.901396\n",
       "    718      1                      3          0.907881      0.901705\n",
       "    719      1                      3          0.908192      0.902014\n",
       "    720      1                      3          0.908503      0.902323\n",
       "\n",
       "[721 rows x 3 columns]"
      ]
     },
     "execution_count": 2,
     "metadata": {},
     "output_type": "execute_result"
    }
   ],
   "source": [
    "# Run Cad^2\n",
    "\n",
    "first_config = configs # only contains config1\n",
    "single_proc_ctx = ExecutionContext(context=exec_mode.single_proc)\n",
    "run = Executor(exec_context=single_proc_ctx, configs=first_config)\n",
    "\n",
    "raw_result, tensor_field = run.execute()\n",
    "df = pd.DataFrame(raw_result)\n",
    "df.set_index(['run', 'timestep', 'substep'])"
   ]
  },
  {
   "cell_type": "code",
   "execution_count": 3,
   "metadata": {},
   "outputs": [
    {
     "data": {
      "image/png": "[encoded data removed]",
      "text/plain": [
       "<Figure size 432x288 with 1 Axes>"
      ]
     },
     "metadata": {
      "needs_background": "light"
     },
     "output_type": "display_data"
    }
   ],
   "source": [
    "df.plot('timestep', ['market_price', 'redemption_price', 'redemption_rate'], \n",
    "        grid=True, \n",
    "        colormap = 'winter',\n",
    "        xticks=list(range(30)),\n",
    "        yticks=[0.71, 0.715, 0.720, 0.725],\n",
    "        secondary_y=list(range(3))\n",
    "       );"
   ]
  },
  {
   "cell_type": "code",
   "execution_count": null,
   "metadata": {},
   "outputs": [],
   "source": []
  },
  {
   "cell_type": "code",
   "execution_count": null,
   "metadata": {},
   "outputs": [],
   "source": []
  }
 ],
 "metadata": {
  "file_extension": ".py",
  "kernelspec": {
   "display_name": "Python 3.7.3 64-bit",
   "language": "python",
   "name": "python37364bit3e867c31e6ba4ef98ae02599baa2bb54"
  },
  "language_info": {
   "codemirror_mode": {
    "name": "ipython",
    "version": 3
   },
   "file_extension": ".py",
   "mimetype": "text/x-python",
   "name": "python",
   "nbconvert_exporter": "python",
   "pygments_lexer": "ipython3",
   "version": "3.7.3"
  },
  "mimetype": "text/x-python",
  "name": "python",
  "npconvert_exporter": "python",
  "pygments_lexer": "ipython3",
  "version": 3
 },
 "nbformat": 4,
 "nbformat_minor": 2
}
